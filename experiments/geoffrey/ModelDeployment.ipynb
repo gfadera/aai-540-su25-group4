{
 "cells": [
  {
   "cell_type": "markdown",
   "id": "6ae1f34c-3889-4c11-9562-2ff89f0d56b9",
   "metadata": {},
   "source": [
    "# MODEL Deployment, Inference on a Dataset"
   ]
  },
  {
   "cell_type": "code",
   "execution_count": 1,
   "id": "045aeabd-28c1-4ad0-91f6-04b6305744d1",
   "metadata": {
    "execution": {
     "iopub.execute_input": "2025-06-19T16:10:19.152546Z",
     "iopub.status.busy": "2025-06-19T16:10:19.151617Z",
     "iopub.status.idle": "2025-06-19T16:10:21.431581Z",
     "shell.execute_reply": "2025-06-19T16:10:21.430685Z",
     "shell.execute_reply.started": "2025-06-19T16:10:19.152514Z"
    }
   },
   "outputs": [
    {
     "name": "stdout",
     "output_type": "stream",
     "text": [
      "sagemaker.config INFO - Not applying SDK defaults from location: /etc/xdg/sagemaker/config.yaml\n",
      "sagemaker.config INFO - Not applying SDK defaults from location: /home/sagemaker-user/.config/sagemaker/config.yaml\n",
      "arn:aws:iam::324183265896:role/service-role/AmazonSageMaker-ExecutionRole-20250604T045982\n"
     ]
    }
   ],
   "source": [
    "import boto3\n",
    "import sagemaker\n",
    "from sagemaker import get_execution_role\n",
    "\n",
    "role = get_execution_role()\n",
    "print(role)\n",
    "\n",
    "region = boto3.Session().region_name\n",
    "\n",
    "s3_client = boto3.client(\"s3\")\n",
    "sm_client = boto3.client(\"sagemaker\")\n",
    "\n",
    "sess = sagemaker.Session()\n",
    "\n",
    "# project bucket\n",
    "bucket_name = \"aai-540-data\"\n",
    "\n",
    "# image source and lst files\n",
    "images_prefix = \"cct_resized\""
   ]
  },
  {
   "cell_type": "code",
   "execution_count": 2,
   "id": "097dd3bd-1530-4d7d-8705-53db3aa5209b",
   "metadata": {
    "execution": {
     "iopub.execute_input": "2025-06-19T16:11:57.764430Z",
     "iopub.status.busy": "2025-06-19T16:11:57.763585Z",
     "iopub.status.idle": "2025-06-19T16:17:30.580606Z",
     "shell.execute_reply": "2025-06-19T16:17:30.579465Z",
     "shell.execute_reply.started": "2025-06-19T16:11:57.764396Z"
    }
   },
   "outputs": [
    {
     "name": "stdout",
     "output_type": "stream",
     "text": [
      "----------!"
     ]
    }
   ],
   "source": [
    "# Load trained model on Sagemaker container for transform batch processing \n",
    "from sagemaker.model import Model\n",
    "from sagemaker import image_uris\n",
    "\n",
    "# specifiy the trained model to evaluate\n",
    "model_name = \"sg-ic-transfer-learning\"\n",
    "model_prefix = \"output/image-classification-2025-06-19-15-45-03-748\"\n",
    "model_sri = f\"s3://{bucket_name}/{model_name}/{model_prefix}/output/model.tar.gz\"\n",
    "\n",
    "\n",
    "\n",
    "training_image = image_uris.retrieve(\n",
    "    framework = \"image-classification\", region = sess.boto_region_name, version=\"latest\"\n",
    ")\n",
    "\n",
    "model = Model(\n",
    "    image_uri=training_image,  # e.g., the URI used for training, check how to apply to models not trained via Sagemaker\n",
    "    model_data=model_sri,\n",
    "    role=role\n",
    ")\n",
    "\n",
    "# create model endpoint and deploy\n",
    "#endpoint_name = f\"{model_name}-{datetime.utcnow():%Y-%m-%d-%H%M}\"\n",
    "#print(\"EndpointName =\", endpoint_name)\n",
    "\n",
    "model.deploy(\n",
    "    initial_instance_count=1,\n",
    "    instance_type='ml.g4dn.xlarge'  # or another suitable instance type\n",
    ")\n",
    "\n",
    "\n"
   ]
  },
  {
   "cell_type": "code",
   "execution_count": 6,
   "id": "9d94d144-bbe5-4f76-8e26-60a98d77b00c",
   "metadata": {
    "execution": {
     "iopub.execute_input": "2025-06-19T16:24:52.528922Z",
     "iopub.status.busy": "2025-06-19T16:24:52.528289Z",
     "iopub.status.idle": "2025-06-19T16:24:52.533087Z",
     "shell.execute_reply": "2025-06-19T16:24:52.532418Z",
     "shell.execute_reply.started": "2025-06-19T16:24:52.528897Z"
    }
   },
   "outputs": [],
   "source": [
    "import json\n",
    "# load index to category label \n",
    "with open('./label_to_enc.json', 'r') as file:  # Replace with your file name if different\n",
    "    label_to_enc = json.load(file)\n",
    "\n",
    "# invert: idx to label\n",
    "enc_to_label = {v: k for k, v in label_to_enc.items()}\n"
   ]
  },
  {
   "cell_type": "code",
   "execution_count": 3,
   "id": "e1d72675-29f0-4410-86b1-2abd904cd2c2",
   "metadata": {
    "execution": {
     "iopub.execute_input": "2025-06-19T16:18:41.717470Z",
     "iopub.status.busy": "2025-06-19T16:18:41.716651Z",
     "iopub.status.idle": "2025-06-19T16:18:41.722693Z",
     "shell.execute_reply": "2025-06-19T16:18:41.721923Z",
     "shell.execute_reply.started": "2025-06-19T16:18:41.717424Z"
    }
   },
   "outputs": [],
   "source": [
    "from sagemaker.predictor import Predictor\n",
    "from sagemaker.serializers import IdentitySerializer\n",
    "from sagemaker.deserializers import JSONDeserializer\n",
    "\n",
    "# Replace with your actual endpoint name \n",
    "#endpoint_name = 'image-classification-2025-06-19-12-33-26-561' # update code later, harcoded for now\n",
    "endpoint_name = 'image-classification-2025-06-19-16-11-58-471'\n"
   ]
  },
  {
   "cell_type": "code",
   "execution_count": 4,
   "id": "6b538014-f520-4c2b-91d8-0986e6b322cb",
   "metadata": {
    "execution": {
     "iopub.execute_input": "2025-06-19T16:18:49.434776Z",
     "iopub.status.busy": "2025-06-19T16:18:49.434474Z",
     "iopub.status.idle": "2025-06-19T16:18:49.468898Z",
     "shell.execute_reply": "2025-06-19T16:18:49.468100Z",
     "shell.execute_reply.started": "2025-06-19T16:18:49.434754Z"
    }
   },
   "outputs": [],
   "source": [
    "\n",
    "# Create a Predictor object for the existing endpoint\n",
    "# Set up the predictor with the appropriate serializer for raw image bytes\n",
    "predictor = Predictor(\n",
    "    endpoint_name=endpoint_name,\n",
    "    serializer=IdentitySerializer(content_type='application/x-image'),  # For .jpg/.png images\n",
    "    deserializer=JSONDeserializer()  # Assumes the model returns JSON\n",
    ")\n",
    "\n"
   ]
  },
  {
   "cell_type": "code",
   "execution_count": 5,
   "id": "b2b35eab-4d63-4b8e-ad8a-d9811b1208eb",
   "metadata": {
    "execution": {
     "iopub.execute_input": "2025-06-19T16:18:50.300816Z",
     "iopub.status.busy": "2025-06-19T16:18:50.300518Z",
     "iopub.status.idle": "2025-06-19T16:18:50.306064Z",
     "shell.execute_reply": "2025-06-19T16:18:50.305049Z",
     "shell.execute_reply.started": "2025-06-19T16:18:50.300794Z"
    }
   },
   "outputs": [],
   "source": [
    "import numpy as np\n",
    "import pandas as pd"
   ]
  },
  {
   "cell_type": "code",
   "execution_count": 7,
   "id": "a85a69b8-cf0f-4a70-9b27-e19a6f0755ae",
   "metadata": {
    "execution": {
     "iopub.execute_input": "2025-06-19T16:25:20.704932Z",
     "iopub.status.busy": "2025-06-19T16:25:20.704641Z",
     "iopub.status.idle": "2025-06-19T16:25:21.405047Z",
     "shell.execute_reply": "2025-06-19T16:25:21.404301Z",
     "shell.execute_reply.started": "2025-06-19T16:25:20.704912Z"
    }
   },
   "outputs": [
    {
     "name": "stdout",
     "output_type": "stream",
     "text": [
      "dog\n"
     ]
    }
   ],
   "source": [
    "# try on one image\n",
    "\n",
    "# Now you can use predictor.predict() as usual\n",
    "img_path = '5858bf6d-23d2-11e8-a6a3-ec086b02610b_0.jpg'\n",
    "with open(img_path, 'rb') as f:\n",
    "    payload = f.read()\n",
    "\n",
    "result = predictor.predict(payload)\n",
    "\n",
    "print(enc_to_label[np.argmax(result)])\n",
    "#print([np.argmax(result)])"
   ]
  },
  {
   "cell_type": "code",
   "execution_count": 11,
   "id": "60a5e4f5-2a50-4918-9888-27b8e5969ca6",
   "metadata": {
    "execution": {
     "iopub.execute_input": "2025-06-19T13:08:47.462451Z",
     "iopub.status.busy": "2025-06-19T13:08:47.461050Z",
     "iopub.status.idle": "2025-06-19T13:08:47.479922Z",
     "shell.execute_reply": "2025-06-19T13:08:47.479261Z",
     "shell.execute_reply.started": "2025-06-19T13:08:47.462417Z"
    }
   },
   "outputs": [
    {
     "data": {
      "text/html": [
       "<div>\n",
       "<style scoped>\n",
       "    .dataframe tbody tr th:only-of-type {\n",
       "        vertical-align: middle;\n",
       "    }\n",
       "\n",
       "    .dataframe tbody tr th {\n",
       "        vertical-align: top;\n",
       "    }\n",
       "\n",
       "    .dataframe thead th {\n",
       "        text-align: right;\n",
       "    }\n",
       "</style>\n",
       "<table border=\"1\" class=\"dataframe\">\n",
       "  <thead>\n",
       "    <tr style=\"text-align: right;\">\n",
       "      <th></th>\n",
       "      <th>time_index</th>\n",
       "      <th>true_encoded_label</th>\n",
       "      <th>filename</th>\n",
       "    </tr>\n",
       "  </thead>\n",
       "  <tbody>\n",
       "    <tr>\n",
       "      <th>0</th>\n",
       "      <td>28049</td>\n",
       "      <td>8</td>\n",
       "      <td>59ec5408-23d2-11e8-a6a3-ec086b02610b_0.jpg</td>\n",
       "    </tr>\n",
       "    <tr>\n",
       "      <th>1</th>\n",
       "      <td>28050</td>\n",
       "      <td>8</td>\n",
       "      <td>597831ed-23d2-11e8-a6a3-ec086b02610b_0.jpg</td>\n",
       "    </tr>\n",
       "    <tr>\n",
       "      <th>2</th>\n",
       "      <td>28051</td>\n",
       "      <td>8</td>\n",
       "      <td>59ccd33a-23d2-11e8-a6a3-ec086b02610b_0.jpg</td>\n",
       "    </tr>\n",
       "    <tr>\n",
       "      <th>3</th>\n",
       "      <td>28052</td>\n",
       "      <td>8</td>\n",
       "      <td>59e918e7-23d2-11e8-a6a3-ec086b02610b_0.jpg</td>\n",
       "    </tr>\n",
       "    <tr>\n",
       "      <th>4</th>\n",
       "      <td>28053</td>\n",
       "      <td>8</td>\n",
       "      <td>59bfdd4e-23d2-11e8-a6a3-ec086b02610b_0.jpg</td>\n",
       "    </tr>\n",
       "  </tbody>\n",
       "</table>\n",
       "</div>"
      ],
      "text/plain": [
       "   time_index  true_encoded_label                                    filename\n",
       "0       28049                   8  59ec5408-23d2-11e8-a6a3-ec086b02610b_0.jpg\n",
       "1       28050                   8  597831ed-23d2-11e8-a6a3-ec086b02610b_0.jpg\n",
       "2       28051                   8  59ccd33a-23d2-11e8-a6a3-ec086b02610b_0.jpg\n",
       "3       28052                   8  59e918e7-23d2-11e8-a6a3-ec086b02610b_0.jpg\n",
       "4       28053                   8  59bfdd4e-23d2-11e8-a6a3-ec086b02610b_0.jpg"
      ]
     },
     "execution_count": 11,
     "metadata": {},
     "output_type": "execute_result"
    }
   ],
   "source": [
    "val_df = pd.read_csv(\"./time_split_lst_files/validation.lst\", sep='\\t', header=None, names=['time_index', \"true_encoded_label\", \"filename\"])\n",
    "val_df.head()"
   ]
  },
  {
   "cell_type": "code",
   "execution_count": 9,
   "id": "01bccf9f-e9d4-41cb-8984-44dc9e5dd75e",
   "metadata": {
    "execution": {
     "iopub.execute_input": "2025-06-19T16:36:03.150652Z",
     "iopub.status.busy": "2025-06-19T16:36:03.149940Z",
     "iopub.status.idle": "2025-06-19T16:36:03.294601Z",
     "shell.execute_reply": "2025-06-19T16:36:03.293707Z",
     "shell.execute_reply.started": "2025-06-19T16:36:03.150626Z"
    }
   },
   "outputs": [],
   "source": [
    "# download lst file to be evaluated\n",
    "target_eval_lst = 'validation.lst'\n",
    "local_filename = 'eval.lst'\n",
    "s3_client.download_file(bucket_name, Key = f\"dev_split/{target_eval_lst}\", Filename = local_filename)\n",
    "\n"
   ]
  },
  {
   "cell_type": "code",
   "execution_count": 10,
   "id": "4bc58926-7fe7-4f19-b90d-0678772eb421",
   "metadata": {
    "execution": {
     "iopub.execute_input": "2025-06-19T16:39:18.539737Z",
     "iopub.status.busy": "2025-06-19T16:39:18.539426Z",
     "iopub.status.idle": "2025-06-19T16:39:18.562722Z",
     "shell.execute_reply": "2025-06-19T16:39:18.562043Z",
     "shell.execute_reply.started": "2025-06-19T16:39:18.539713Z"
    }
   },
   "outputs": [
    {
     "data": {
      "text/html": [
       "<div>\n",
       "<style scoped>\n",
       "    .dataframe tbody tr th:only-of-type {\n",
       "        vertical-align: middle;\n",
       "    }\n",
       "\n",
       "    .dataframe tbody tr th {\n",
       "        vertical-align: top;\n",
       "    }\n",
       "\n",
       "    .dataframe thead th {\n",
       "        text-align: right;\n",
       "    }\n",
       "</style>\n",
       "<table border=\"1\" class=\"dataframe\">\n",
       "  <thead>\n",
       "    <tr style=\"text-align: right;\">\n",
       "      <th></th>\n",
       "      <th>time_index</th>\n",
       "      <th>true_enc</th>\n",
       "      <th>filename</th>\n",
       "    </tr>\n",
       "  </thead>\n",
       "  <tbody>\n",
       "    <tr>\n",
       "      <th>0</th>\n",
       "      <td>28049</td>\n",
       "      <td>8</td>\n",
       "      <td>59ec5408-23d2-11e8-a6a3-ec086b02610b_0.jpg</td>\n",
       "    </tr>\n",
       "    <tr>\n",
       "      <th>1</th>\n",
       "      <td>28050</td>\n",
       "      <td>8</td>\n",
       "      <td>597831ed-23d2-11e8-a6a3-ec086b02610b_0.jpg</td>\n",
       "    </tr>\n",
       "    <tr>\n",
       "      <th>2</th>\n",
       "      <td>28051</td>\n",
       "      <td>8</td>\n",
       "      <td>59ccd33a-23d2-11e8-a6a3-ec086b02610b_0.jpg</td>\n",
       "    </tr>\n",
       "    <tr>\n",
       "      <th>3</th>\n",
       "      <td>28052</td>\n",
       "      <td>8</td>\n",
       "      <td>59e918e7-23d2-11e8-a6a3-ec086b02610b_0.jpg</td>\n",
       "    </tr>\n",
       "    <tr>\n",
       "      <th>4</th>\n",
       "      <td>28053</td>\n",
       "      <td>8</td>\n",
       "      <td>59bfdd4e-23d2-11e8-a6a3-ec086b02610b_0.jpg</td>\n",
       "    </tr>\n",
       "  </tbody>\n",
       "</table>\n",
       "</div>"
      ],
      "text/plain": [
       "   time_index  true_enc                                    filename\n",
       "0       28049         8  59ec5408-23d2-11e8-a6a3-ec086b02610b_0.jpg\n",
       "1       28050         8  597831ed-23d2-11e8-a6a3-ec086b02610b_0.jpg\n",
       "2       28051         8  59ccd33a-23d2-11e8-a6a3-ec086b02610b_0.jpg\n",
       "3       28052         8  59e918e7-23d2-11e8-a6a3-ec086b02610b_0.jpg\n",
       "4       28053         8  59bfdd4e-23d2-11e8-a6a3-ec086b02610b_0.jpg"
      ]
     },
     "execution_count": 10,
     "metadata": {},
     "output_type": "execute_result"
    }
   ],
   "source": [
    "eval_df = []\n",
    "# load validation lst file as pandas and add column names\n",
    "eval_df = pd.read_csv(f\"{local_filename}\", sep='\\t', header=None, names=['time_index', \"true_enc\", \"filename\"])\n",
    "eval_df.head()"
   ]
  },
  {
   "cell_type": "code",
   "execution_count": 11,
   "id": "4e7e3055-0696-495b-b40b-a3b700fe305a",
   "metadata": {
    "execution": {
     "iopub.execute_input": "2025-06-19T16:40:11.541243Z",
     "iopub.status.busy": "2025-06-19T16:40:11.540612Z",
     "iopub.status.idle": "2025-06-19T16:46:13.693218Z",
     "shell.execute_reply": "2025-06-19T16:46:13.692490Z",
     "shell.execute_reply.started": "2025-06-19T16:40:11.541218Z"
    }
   },
   "outputs": [
    {
     "name": "stdout",
     "output_type": "stream",
     "text": [
      "Made predictions on 0 images so far, on this dataset\n",
      "Made predictions on 500 images so far, on this dataset\n",
      "Made predictions on 1000 images so far, on this dataset\n",
      "Made predictions on 1500 images so far, on this dataset\n",
      "Made predictions on 2000 images so far, on this dataset\n",
      "Made predictions on 2500 images so far, on this dataset\n",
      "Made predictions on 3000 images so far, on this dataset\n",
      "Made predictions on 3500 images so far, on this dataset\n",
      "Made predictions on 4000 images so far, on this dataset\n",
      "Made predictions on 4500 images so far, on this dataset\n",
      "Made predictions on 5000 images so far, on this dataset\n",
      "Made predictions on 5500 images so far, on this dataset\n"
     ]
    }
   ],
   "source": [
    "eval_df = []\n",
    "# load validation lst file as pandas and add column names\n",
    "eval_df = pd.read_csv(f\"{local_filename}\", sep='\\t', header=None, names=['time_index', \"true_enc\", \"filename\"])\n",
    "\n",
    "# go through each image file in the df, download the image from the s3 bucket, then predict the label\n",
    "eval_df['pred_enc'] = np.nan\n",
    "\n",
    "for row in eval_df.itertuples(index=True):\n",
    "    # set s3 location of image file\n",
    "    #display(row)\n",
    "    # Download image S3 object \n",
    "    key = f\"{images_prefix}/{row.filename}\"\n",
    "    #display(bucket_name)\n",
    "    #display(key)\n",
    "    data = s3_client.get_object(Bucket=bucket_name, Key=key)['Body'].read()\n",
    "\n",
    "    # Send to endpoint\n",
    "    result = predictor.predict(data)\n",
    "    # display progress every 1000 images\n",
    "    if(row.Index%500 == 0):\n",
    "        print(f\"Made predictions on {row.Index} images so far, on this dataset\")\n",
    "\n",
    "    # add pred labels to dataset\n",
    "    eval_df.at[row.Index, 'pred_enc'] = np.argmax(result)\n"
   ]
  },
  {
   "cell_type": "code",
   "execution_count": 15,
   "id": "3940f22e-53f2-486b-9982-01bd3ece9920",
   "metadata": {
    "execution": {
     "iopub.execute_input": "2025-06-19T16:49:38.094420Z",
     "iopub.status.busy": "2025-06-19T16:49:38.093978Z",
     "iopub.status.idle": "2025-06-19T16:49:38.208431Z",
     "shell.execute_reply": "2025-06-19T16:49:38.207434Z",
     "shell.execute_reply.started": "2025-06-19T16:49:38.094393Z"
    }
   },
   "outputs": [
    {
     "name": "stdout",
     "output_type": "stream",
     "text": [
      "              precision    recall  f1-score   support\n",
      "\n",
      "        bird       0.31      0.73      0.44        26\n",
      "      bobcat       0.81      0.87      0.84       438\n",
      "         car       1.00      1.00      1.00       423\n",
      "         cat       0.74      0.81      0.77       479\n",
      "      coyote       0.88      0.84      0.86       659\n",
      "        deer       1.00      0.80      0.89         5\n",
      "         dog       0.84      0.73      0.78       342\n",
      "       empty       0.00      0.00      0.00        13\n",
      "      lizard       0.00      0.00      0.00         3\n",
      "     opossum       0.99      0.92      0.95      1815\n",
      "      rabbit       0.82      0.95      0.88       271\n",
      "     raccoon       0.90      0.91      0.91      1021\n",
      "      rodent       0.77      0.88      0.82        58\n",
      "       skunk       0.97      0.87      0.92       191\n",
      "    squirrel       0.72      0.94      0.82       169\n",
      "\n",
      "    accuracy                           0.89      5913\n",
      "   macro avg       0.72      0.75      0.72      5913\n",
      "weighted avg       0.90      0.89      0.89      5913\n",
      "\n"
     ]
    },
    {
     "name": "stderr",
     "output_type": "stream",
     "text": [
      "/opt/conda/lib/python3.12/site-packages/sklearn/metrics/_classification.py:1565: UndefinedMetricWarning: Precision is ill-defined and being set to 0.0 in labels with no predicted samples. Use `zero_division` parameter to control this behavior.\n",
      "  _warn_prf(average, modifier, f\"{metric.capitalize()} is\", len(result))\n",
      "/opt/conda/lib/python3.12/site-packages/sklearn/metrics/_classification.py:1565: UndefinedMetricWarning: Precision is ill-defined and being set to 0.0 in labels with no predicted samples. Use `zero_division` parameter to control this behavior.\n",
      "  _warn_prf(average, modifier, f\"{metric.capitalize()} is\", len(result))\n",
      "/opt/conda/lib/python3.12/site-packages/sklearn/metrics/_classification.py:1565: UndefinedMetricWarning: Precision is ill-defined and being set to 0.0 in labels with no predicted samples. Use `zero_division` parameter to control this behavior.\n",
      "  _warn_prf(average, modifier, f\"{metric.capitalize()} is\", len(result))\n"
     ]
    }
   ],
   "source": [
    "# generate classification report\n",
    "from sklearn.metrics import classification_report\n",
    "\n",
    "# make sure true and pred labels are int\n",
    "eval_df['true_label'] = eval_df['true_enc'].map(enc_to_label)\n",
    "eval_df['pred_label'] = eval_df['pred_enc'].map(enc_to_label)\n",
    "#val_df['pred_encoded_label'] = val_df['pred_encoded_label'].astype('Int64')\n",
    "\n",
    "\n",
    "\n",
    "print(classification_report(eval_df['true_label'], eval_df['pred_label']))"
   ]
  },
  {
   "cell_type": "code",
   "execution_count": 16,
   "id": "76e511b3-e679-4a04-98dd-3f976c86a5e0",
   "metadata": {
    "collapsed": true,
    "execution": {
     "iopub.execute_input": "2025-06-19T16:57:00.775264Z",
     "iopub.status.busy": "2025-06-19T16:57:00.774556Z",
     "iopub.status.idle": "2025-06-19T17:05:14.438775Z",
     "shell.execute_reply": "2025-06-19T17:05:14.437962Z",
     "shell.execute_reply.started": "2025-06-19T16:57:00.775230Z"
    },
    "jupyter": {
     "outputs_hidden": true,
     "source_hidden": true
    }
   },
   "outputs": [
    {
     "data": {
      "text/html": [
       "<div>\n",
       "<style scoped>\n",
       "    .dataframe tbody tr th:only-of-type {\n",
       "        vertical-align: middle;\n",
       "    }\n",
       "\n",
       "    .dataframe tbody tr th {\n",
       "        vertical-align: top;\n",
       "    }\n",
       "\n",
       "    .dataframe thead th {\n",
       "        text-align: right;\n",
       "    }\n",
       "</style>\n",
       "<table border=\"1\" class=\"dataframe\">\n",
       "  <thead>\n",
       "    <tr style=\"text-align: right;\">\n",
       "      <th></th>\n",
       "      <th>time_index</th>\n",
       "      <th>true_enc</th>\n",
       "      <th>filename</th>\n",
       "    </tr>\n",
       "  </thead>\n",
       "  <tbody>\n",
       "    <tr>\n",
       "      <th>0</th>\n",
       "      <td>33962</td>\n",
       "      <td>0</td>\n",
       "      <td>5a0fd077-23d2-11e8-a6a3-ec086b02610b_0.jpg</td>\n",
       "    </tr>\n",
       "    <tr>\n",
       "      <th>1</th>\n",
       "      <td>33963</td>\n",
       "      <td>0</td>\n",
       "      <td>59862370-23d2-11e8-a6a3-ec086b02610b_0.jpg</td>\n",
       "    </tr>\n",
       "    <tr>\n",
       "      <th>2</th>\n",
       "      <td>33964</td>\n",
       "      <td>0</td>\n",
       "      <td>5a1fe939-23d2-11e8-a6a3-ec086b02610b_0.jpg</td>\n",
       "    </tr>\n",
       "    <tr>\n",
       "      <th>3</th>\n",
       "      <td>33965</td>\n",
       "      <td>0</td>\n",
       "      <td>59ccd0f7-23d2-11e8-a6a3-ec086b02610b_0.jpg</td>\n",
       "    </tr>\n",
       "    <tr>\n",
       "      <th>4</th>\n",
       "      <td>33966</td>\n",
       "      <td>0</td>\n",
       "      <td>5a17df7a-23d2-11e8-a6a3-ec086b02610b_0.jpg</td>\n",
       "    </tr>\n",
       "  </tbody>\n",
       "</table>\n",
       "</div>"
      ],
      "text/plain": [
       "   time_index  true_enc                                    filename\n",
       "0       33962         0  5a0fd077-23d2-11e8-a6a3-ec086b02610b_0.jpg\n",
       "1       33963         0  59862370-23d2-11e8-a6a3-ec086b02610b_0.jpg\n",
       "2       33964         0  5a1fe939-23d2-11e8-a6a3-ec086b02610b_0.jpg\n",
       "3       33965         0  59ccd0f7-23d2-11e8-a6a3-ec086b02610b_0.jpg\n",
       "4       33966         0  5a17df7a-23d2-11e8-a6a3-ec086b02610b_0.jpg"
      ]
     },
     "metadata": {},
     "output_type": "display_data"
    },
    {
     "name": "stdout",
     "output_type": "stream",
     "text": [
      "Made predictions on 0 images so far, on this dataset\n",
      "Made predictions on 500 images so far, on this dataset\n",
      "Made predictions on 1000 images so far, on this dataset\n",
      "Made predictions on 1500 images so far, on this dataset\n",
      "Made predictions on 2000 images so far, on this dataset\n",
      "Made predictions on 2500 images so far, on this dataset\n",
      "Made predictions on 3000 images so far, on this dataset\n",
      "Made predictions on 3500 images so far, on this dataset\n",
      "Made predictions on 4000 images so far, on this dataset\n",
      "Made predictions on 4500 images so far, on this dataset\n",
      "Made predictions on 5000 images so far, on this dataset\n",
      "Made predictions on 5500 images so far, on this dataset\n",
      "Made predictions on 6000 images so far, on this dataset\n",
      "Made predictions on 6500 images so far, on this dataset\n",
      "Made predictions on 7000 images so far, on this dataset\n",
      "Made predictions on 7500 images so far, on this dataset\n"
     ]
    }
   ],
   "source": [
    "# try on test set\n",
    "\n",
    "# download lst file to be evaluated\n",
    "target_eval_lst = 'test.lst'\n",
    "local_filename = 'eval.lst'\n",
    "s3_client.download_file(bucket_name, Key = f\"dev_split/{target_eval_lst}\", Filename = local_filename)\n",
    "\n",
    "eval_df = []\n",
    "# load target lst file for evaluation as pandas and add column names\n",
    "eval_df = pd.read_csv(f\"{local_filename}\", sep='\\t', header=None, names=['time_index', \"true_enc\", \"filename\"])\n",
    "display(eval_df.head())\n",
    "\n",
    "# go through each image file in the df, download the image from the s3 bucket, then predict the label\n",
    "eval_df['pred_enc'] = np.nan\n",
    "\n",
    "for row in eval_df.itertuples(index=True):\n",
    "    # set s3 location of image file\n",
    "    #display(row)\n",
    "    # Download image S3 object \n",
    "    key = f\"{images_prefix}/{row.filename}\"\n",
    "    #display(bucket_name)\n",
    "    #display(key)\n",
    "    data = s3_client.get_object(Bucket=bucket_name, Key=key)['Body'].read()\n",
    "\n",
    "    # Send to endpoint\n",
    "    result = predictor.predict(data)\n",
    "    # display progress every 1000 images\n",
    "    if(row.Index%500 == 0):\n",
    "        print(f\"Made predictions on {row.Index} images so far, on this dataset\")\n",
    "\n",
    "    # add pred labels to dataset\n",
    "    eval_df.at[row.Index, 'pred_enc'] = np.argmax(result)\n"
   ]
  },
  {
   "cell_type": "code",
   "execution_count": 17,
   "id": "40c95ac2-2a49-4f67-b6a3-cb5f493e943e",
   "metadata": {
    "execution": {
     "iopub.execute_input": "2025-06-19T17:05:31.936960Z",
     "iopub.status.busy": "2025-06-19T17:05:31.936566Z",
     "iopub.status.idle": "2025-06-19T17:05:32.050644Z",
     "shell.execute_reply": "2025-06-19T17:05:32.049727Z",
     "shell.execute_reply.started": "2025-06-19T17:05:31.936934Z"
    }
   },
   "outputs": [
    {
     "name": "stdout",
     "output_type": "stream",
     "text": [
      "              precision    recall  f1-score   support\n",
      "\n",
      "      badger       0.00      0.00      0.00         4\n",
      "        bird       0.23      0.50      0.32        54\n",
      "      bobcat       0.75      0.83      0.79       569\n",
      "         car       1.00      0.99      0.99        85\n",
      "         cat       0.67      0.72      0.69       828\n",
      "      coyote       0.82      0.84      0.83      1199\n",
      "        deer       1.00      0.47      0.64        17\n",
      "         dog       0.62      0.58      0.60       395\n",
      "       empty       0.00      0.00      0.00         8\n",
      "         fox       0.00      0.00      0.00         2\n",
      "      lizard       0.00      0.00      0.00       126\n",
      "     opossum       0.99      0.90      0.95      3092\n",
      "      rabbit       0.76      0.90      0.82       298\n",
      "     raccoon       0.83      0.91      0.87       737\n",
      "      rodent       0.67      0.78      0.72        81\n",
      "       skunk       0.86      0.82      0.84        51\n",
      "    squirrel       0.69      0.86      0.76       386\n",
      "\n",
      "    accuracy                           0.83      7932\n",
      "   macro avg       0.58      0.59      0.58      7932\n",
      "weighted avg       0.83      0.83      0.83      7932\n",
      "\n"
     ]
    },
    {
     "name": "stderr",
     "output_type": "stream",
     "text": [
      "/opt/conda/lib/python3.12/site-packages/sklearn/metrics/_classification.py:1565: UndefinedMetricWarning: Precision is ill-defined and being set to 0.0 in labels with no predicted samples. Use `zero_division` parameter to control this behavior.\n",
      "  _warn_prf(average, modifier, f\"{metric.capitalize()} is\", len(result))\n",
      "/opt/conda/lib/python3.12/site-packages/sklearn/metrics/_classification.py:1565: UndefinedMetricWarning: Precision is ill-defined and being set to 0.0 in labels with no predicted samples. Use `zero_division` parameter to control this behavior.\n",
      "  _warn_prf(average, modifier, f\"{metric.capitalize()} is\", len(result))\n",
      "/opt/conda/lib/python3.12/site-packages/sklearn/metrics/_classification.py:1565: UndefinedMetricWarning: Precision is ill-defined and being set to 0.0 in labels with no predicted samples. Use `zero_division` parameter to control this behavior.\n",
      "  _warn_prf(average, modifier, f\"{metric.capitalize()} is\", len(result))\n"
     ]
    }
   ],
   "source": [
    "# make sure true and pred labels are int\n",
    "eval_df['true_label'] = eval_df['true_enc'].map(enc_to_label)\n",
    "eval_df['pred_label'] = eval_df['pred_enc'].map(enc_to_label)\n",
    "#val_df['pred_encoded_label'] = val_df['pred_encoded_label'].astype('Int64')\n",
    "\n",
    "\n",
    "\n",
    "print(classification_report(eval_df['true_label'], eval_df['pred_label']))"
   ]
  },
  {
   "cell_type": "code",
   "execution_count": 18,
   "id": "9128ea3e-d1b4-48b2-b556-7b2ee0a93ee1",
   "metadata": {
    "execution": {
     "iopub.execute_input": "2025-06-19T17:07:53.611037Z",
     "iopub.status.busy": "2025-06-19T17:07:53.610235Z",
     "iopub.status.idle": "2025-06-19T17:07:53.617116Z",
     "shell.execute_reply": "2025-06-19T17:07:53.616035Z",
     "shell.execute_reply.started": "2025-06-19T17:07:53.611006Z"
    }
   },
   "outputs": [
    {
     "data": {
      "text/plain": [
       "{0: 'cat',\n",
       " 1: 'opossum',\n",
       " 2: 'squirrel',\n",
       " 3: 'raccoon',\n",
       " 4: 'bird',\n",
       " 5: 'rabbit',\n",
       " 6: 'dog',\n",
       " 7: 'badger',\n",
       " 8: 'bobcat',\n",
       " 9: 'coyote',\n",
       " 10: 'car',\n",
       " 11: 'deer',\n",
       " 12: 'rodent',\n",
       " 13: 'skunk',\n",
       " 14: 'empty',\n",
       " 15: 'fox',\n",
       " 16: 'lizard'}"
      ]
     },
     "execution_count": 18,
     "metadata": {},
     "output_type": "execute_result"
    }
   ],
   "source": [
    "enc_to_label"
   ]
  },
  {
   "cell_type": "code",
   "execution_count": null,
   "id": "83e3c7fc-a87f-4195-977b-1c8b0aa821c1",
   "metadata": {},
   "outputs": [],
   "source": []
  }
 ],
 "metadata": {
  "kernelspec": {
   "display_name": "Python 3 (ipykernel)",
   "language": "python",
   "name": "python3"
  },
  "language_info": {
   "codemirror_mode": {
    "name": "ipython",
    "version": 3
   },
   "file_extension": ".py",
   "mimetype": "text/x-python",
   "name": "python",
   "nbconvert_exporter": "python",
   "pygments_lexer": "ipython3",
   "version": "3.12.9"
  }
 },
 "nbformat": 4,
 "nbformat_minor": 5
}
