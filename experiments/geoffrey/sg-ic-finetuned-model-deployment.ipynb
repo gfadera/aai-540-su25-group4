{
 "cells": [
  {
   "cell_type": "code",
   "execution_count": 1,
   "id": "8ec73950-ad5d-4647-b787-ca9a3a9fba86",
   "metadata": {
    "execution": {
     "iopub.execute_input": "2025-06-10T12:13:10.671656Z",
     "iopub.status.busy": "2025-06-10T12:13:10.671302Z",
     "iopub.status.idle": "2025-06-10T12:13:14.274394Z",
     "shell.execute_reply": "2025-06-10T12:13:14.272623Z",
     "shell.execute_reply.started": "2025-06-10T12:13:10.671634Z"
    }
   },
   "outputs": [
    {
     "name": "stdout",
     "output_type": "stream",
     "text": [
      "sagemaker.config INFO - Not applying SDK defaults from location: /etc/xdg/sagemaker/config.yaml\n",
      "sagemaker.config INFO - Not applying SDK defaults from location: /home/sagemaker-user/.config/sagemaker/config.yaml\n",
      "arn:aws:iam::324183265896:role/service-role/AmazonSageMaker-ExecutionRole-20250604T045982\n"
     ]
    }
   ],
   "source": [
    "import boto3\n",
    "import sagemaker\n",
    "from sagemaker import get_execution_role\n",
    "\n",
    "role = get_execution_role()\n",
    "print(role)\n",
    "\n",
    "region = boto3.Session().region_name\n",
    "\n",
    "s3_client = boto3.client(\"s3\")\n",
    "\n",
    "sess = sagemaker.Session()\n",
    "\n",
    "output_bucket = sess.default_bucket()\n",
    "output_prefix = \"ic-transfer-learning\""
   ]
  },
  {
   "cell_type": "code",
   "execution_count": null,
   "id": "2a85a40e-71bc-4acc-ad8a-8daa87c8e388",
   "metadata": {},
   "outputs": [],
   "source": [
    "# Generate .lst file from JSON\n",
    "\n",
    "import json\n",
    "import os\n",
    "\n",
    "# Load JSON data\n",
    "with open(\"grp4-metadata.json\", \"r\") as f:\n",
    "    data = json.load(f)\n",
    "\n",
    "# Create label-to-index mapping\n",
    "# categories = list(set([item[\"category_id\"] for item in data]))\n",
    "# label_map = {category: idx for idx, category in enumerate(sorted(categories))}\n",
    "\n",
    "# Split into train/val and write .lst files\n",
    "for split_type in [\"train\", \"val\"]:\n",
    "    split_data = [item for item in data if item[\"split_type\"] == split_type]\n",
    "    \n",
    "    with open(f\"{split_type}.lst\", \"w\") as f:\n",
    "        for idx, item in enumerate(split_data):\n",
    "            relative_path = item[\"filename\"]\n",
    "            category_id = item[\"category_id\"]\n",
    "            f.write(f\"{idx}\\t{category_id}\\t{relative_path}\\n\")"
   ]
  },
  {
   "cell_type": "code",
   "execution_count": 2,
   "id": "a688c054-ce5c-427f-b146-bd21c8bd4f92",
   "metadata": {
    "execution": {
     "iopub.execute_input": "2025-06-10T12:16:22.558461Z",
     "iopub.status.busy": "2025-06-10T12:16:22.557919Z",
     "iopub.status.idle": "2025-06-10T12:16:22.692307Z",
     "shell.execute_reply": "2025-06-10T12:16:22.691534Z",
     "shell.execute_reply.started": "2025-06-10T12:16:22.558429Z"
    }
   },
   "outputs": [],
   "source": [
    "import boto3\n",
    "\n",
    "src_bucket = \"aai-540-data\"\n",
    "src_prefix = \"cct_resized\"\n",
    "\n",
    "s3_client.upload_file(\n",
    "    \"train.lst\", src_bucket, src_prefix + \"/train_lst/train.lst\"\n",
    ")"
   ]
  },
  {
   "cell_type": "code",
   "execution_count": 3,
   "id": "f0f88eeb-64da-429c-ad06-1aa86b8d5da1",
   "metadata": {
    "execution": {
     "iopub.execute_input": "2025-06-10T12:17:22.793653Z",
     "iopub.status.busy": "2025-06-10T12:17:22.793250Z",
     "iopub.status.idle": "2025-06-10T12:17:22.942503Z",
     "shell.execute_reply": "2025-06-10T12:17:22.941718Z",
     "shell.execute_reply.started": "2025-06-10T12:17:22.793629Z"
    }
   },
   "outputs": [],
   "source": [
    "s3_client.upload_file(\n",
    "    \"val.lst\", src_bucket, src_prefix + \"/val_lst/train.lst\"\n",
    ")"
   ]
  },
  {
   "cell_type": "code",
   "execution_count": 4,
   "id": "908bfb5d-1dcf-4540-9f6e-f45c300f232a",
   "metadata": {
    "execution": {
     "iopub.execute_input": "2025-06-10T12:17:48.016012Z",
     "iopub.status.busy": "2025-06-10T12:17:48.015751Z",
     "iopub.status.idle": "2025-06-10T12:17:48.047898Z",
     "shell.execute_reply": "2025-06-10T12:17:48.047154Z",
     "shell.execute_reply.started": "2025-06-10T12:17:48.015991Z"
    }
   },
   "outputs": [
    {
     "name": "stdout",
     "output_type": "stream",
     "text": [
      "811284229777.dkr.ecr.us-east-1.amazonaws.com/image-classification:1\n"
     ]
    }
   ],
   "source": [
    "# retrieve base SageMakers image-classification model \n",
    "from sagemaker import image_uris\n",
    "\n",
    "training_image = image_uris.retrieve(\n",
    "    \"image-classification\", sess.boto_region_name, version=\"latest\"\n",
    ")\n",
    "\n",
    "print(training_image)"
   ]
  },
  {
   "cell_type": "code",
   "execution_count": 5,
   "id": "c05647aa-eb85-4c48-bb63-0dd1b7d14d29",
   "metadata": {
    "execution": {
     "iopub.execute_input": "2025-06-10T12:21:38.992258Z",
     "iopub.status.busy": "2025-06-10T12:21:38.991493Z",
     "iopub.status.idle": "2025-06-10T12:21:38.996169Z",
     "shell.execute_reply": "2025-06-10T12:21:38.995392Z",
     "shell.execute_reply.started": "2025-06-10T12:21:38.992229Z"
    }
   },
   "outputs": [],
   "source": [
    "# Configure input channels\n",
    "input_data = {\n",
    "    \"train\": sagemaker.inputs.TrainingInput(\n",
    "        s3_data=\"s3://aai-540-data/cct_resized/\",  # All images here\n",
    "        content_type=\"application/x-image\",\n",
    "    ),\n",
    "    \"validation\": sagemaker.inputs.TrainingInput(\n",
    "        s3_data=\"s3://aai-540-data/cct_resized/\",  # Same directory\n",
    "        content_type=\"application/x-image\",\n",
    "    ),\n",
    "    \"train_lst\": sagemaker.inputs.TrainingInput(\n",
    "        s3_data=\"s3://aai-540-data/cct_resized/train_lst/\",\n",
    "        content_type=\"application/x-image\",\n",
    "    ),\n",
    "    \"validation_lst\": sagemaker.inputs.TrainingInput(\n",
    "        s3_data=\"s3://aai-540-data/cct_resized/val_lst/\",\n",
    "        content_type=\"application/x-image\",\n",
    "    ),\n",
    "}"
   ]
  },
  {
   "cell_type": "code",
   "execution_count": 6,
   "id": "1f282570-784e-4af3-9463-b2a671132f7a",
   "metadata": {
    "execution": {
     "iopub.execute_input": "2025-06-10T12:22:36.424261Z",
     "iopub.status.busy": "2025-06-10T12:22:36.423967Z",
     "iopub.status.idle": "2025-06-10T12:22:36.437457Z",
     "shell.execute_reply": "2025-06-10T12:22:36.436186Z",
     "shell.execute_reply.started": "2025-06-10T12:22:36.424239Z"
    }
   },
   "outputs": [],
   "source": [
    "# Configure base image classifier\n",
    "s3_output_location = f\"s3://{output_bucket}/{output_prefix}/output\"\n",
    "ic_estimator = sagemaker.estimator.Estimator(\n",
    "    training_image,\n",
    "    role,\n",
    "    instance_count=1,\n",
    "    instance_type=\"ml.g4dn.xlarge\",\n",
    "    volume_size=50,\n",
    "    max_run=360000,\n",
    "    input_mode=\"File\",\n",
    "    output_path=s3_output_location,\n",
    "    sagemaker_session=sess,\n",
    ")"
   ]
  },
  {
   "cell_type": "code",
   "execution_count": 7,
   "id": "b9d06406-47ba-4c2a-a380-9e9a502b933e",
   "metadata": {
    "execution": {
     "iopub.execute_input": "2025-06-10T12:24:41.160588Z",
     "iopub.status.busy": "2025-06-10T12:24:41.160342Z",
     "iopub.status.idle": "2025-06-10T12:24:41.164207Z",
     "shell.execute_reply": "2025-06-10T12:24:41.163532Z",
     "shell.execute_reply.started": "2025-06-10T12:24:41.160568Z"
    }
   },
   "outputs": [],
   "source": [
    "# Configure hyper parameters\n",
    "ic_estimator.set_hyperparameters(\n",
    "    num_layers=18,\n",
    "    use_pretrained_model=1,\n",
    "    image_shape=\"3,224,224\",\n",
    "    num_classes=20,\n",
    "    num_training_samples=39360,\n",
    "    mini_batch_size=128,\n",
    "    epochs=2,\n",
    "    learning_rate=0.01,\n",
    "    precision_dtype=\"float32\",\n",
    ")"
   ]
  },
  {
   "cell_type": "code",
   "execution_count": 8,
   "id": "631502d5-f594-4df5-ba82-c429362f31f7",
   "metadata": {
    "execution": {
     "iopub.execute_input": "2025-06-10T12:26:18.030190Z",
     "iopub.status.busy": "2025-06-10T12:26:18.029781Z",
     "iopub.status.idle": "2025-06-10T12:36:40.586505Z",
     "shell.execute_reply": "2025-06-10T12:36:40.585727Z",
     "shell.execute_reply.started": "2025-06-10T12:26:18.030157Z"
    }
   },
   "outputs": [
    {
     "name": "stderr",
     "output_type": "stream",
     "text": [
      "INFO:sagemaker:Creating training-job with name: image-classification-2025-06-10-12-26-18-032\n"
     ]
    },
    {
     "name": "stdout",
     "output_type": "stream",
     "text": [
      "2025-06-10 12:26:22 Starting - Starting the training job...\n",
      "2025-06-10 12:26:37 Starting - Preparing the instances for training...\n",
      "2025-06-10 12:27:08 Downloading - Downloading input data.........\n",
      "2025-06-10 12:28:54 Downloading - Downloading the training image.........\n",
      "2025-06-10 12:30:00 Training - Training image download completed. Training in progress.\u001b[34mDocker entrypoint called with argument(s): train\u001b[0m\n",
      "\u001b[34mRunning default environment configuration script\u001b[0m\n",
      "\u001b[34mNvidia gpu devices, drivers and cuda toolkit versions (only available on hosts with GPU):\u001b[0m\n",
      "\u001b[34mTue Jun 10 12:30:11 2025       \u001b[0m\n",
      "\u001b[34m+-----------------------------------------------------------------------------------------+\u001b[0m\n",
      "\u001b[34m| NVIDIA-SMI 550.163.01             Driver Version: 550.163.01     CUDA Version: 12.4     |\u001b[0m\n",
      "\u001b[34m|-----------------------------------------+------------------------+----------------------+\u001b[0m\n",
      "\u001b[34m| GPU  Name                 Persistence-M | Bus-Id          Disp.A | Volatile Uncorr. ECC |\u001b[0m\n",
      "\u001b[34m| Fan  Temp   Perf          Pwr:Usage/Cap |           Memory-Usage | GPU-Util  Compute M. |\u001b[0m\n",
      "\u001b[34m|                                         |                        |               MIG M. |\u001b[0m\n",
      "\u001b[34m|=========================================+========================+======================|\u001b[0m\n",
      "\u001b[34m|   0  Tesla T4                       On  |   00000000:00:1E.0 Off |                    0 |\u001b[0m\n",
      "\u001b[34m| N/A   29C    P8              9W /   70W |       1MiB /  15360MiB |      0%      Default |\u001b[0m\n",
      "\u001b[34m|                                         |                        |                  N/A |\u001b[0m\n",
      "\u001b[34m+-----------------------------------------+------------------------+----------------------+\n",
      "                                                                                         \u001b[0m\n",
      "\u001b[34m+-----------------------------------------------------------------------------------------+\u001b[0m\n",
      "\u001b[34m| Processes:                                                                              |\u001b[0m\n",
      "\u001b[34m|  GPU   GI   CI        PID   Type   Process name                              GPU Memory |\u001b[0m\n",
      "\u001b[34m|        ID   ID                                                               Usage      |\u001b[0m\n",
      "\u001b[34m|=========================================================================================|\u001b[0m\n",
      "\u001b[34m|  No running processes found                                                             |\u001b[0m\n",
      "\u001b[34m+-----------------------------------------------------------------------------------------+\u001b[0m\n",
      "\u001b[34mChecking for nvidia driver and cuda compatibility.\u001b[0m\n",
      "\u001b[34mCUDA Compatibility driver provided.\u001b[0m\n",
      "\u001b[34mProceeding with compatibility check between driver, cuda-toolkit and cuda-compat.\u001b[0m\n",
      "\u001b[34mDetected cuda-toolkit version: 11.1.\u001b[0m\n",
      "\u001b[34mDetected cuda-compat version: 455.32.00.\u001b[0m\n",
      "\u001b[34mDetected Nvidia driver version: 550.163.01.\u001b[0m\n",
      "\u001b[34mNvidia driver compatible with cuda-toolkit. Disabling cuda-compat.\u001b[0m\n",
      "\u001b[34m/opt/amazon/lib/python3.8/site-packages/mxnet/model.py:97: SyntaxWarning: \"is\" with a literal. Did you mean \"==\"?\n",
      "  if num_device is 1 and 'dist' not in kvstore:\u001b[0m\n",
      "\u001b[34m[06/10/2025 12:30:15 INFO 140114206304064] Reading default configuration from /opt/amazon/lib/python3.8/site-packages/image_classification/default-input.json: {'use_pretrained_model': 0, 'num_layers': 152, 'epochs': 30, 'learning_rate': 0.1, 'lr_scheduler_factor': 0.1, 'optimizer': 'sgd', 'momentum': 0, 'weight_decay': 0.0001, 'beta_1': 0.9, 'beta_2': 0.999, 'eps': 1e-08, 'gamma': 0.9, 'mini_batch_size': 32, 'image_shape': '3,224,224', 'precision_dtype': 'float32'}\u001b[0m\n",
      "\u001b[34m[06/10/2025 12:30:15 INFO 140114206304064] Merging with provided configuration from /opt/ml/input/config/hyperparameters.json: {'epochs': '2', 'image_shape': '3,224,224', 'learning_rate': '0.01', 'mini_batch_size': '128', 'num_classes': '20', 'num_layers': '18', 'num_training_samples': '39360', 'precision_dtype': 'float32', 'use_pretrained_model': '1'}\u001b[0m\n",
      "\u001b[34m[06/10/2025 12:30:15 INFO 140114206304064] Final configuration: {'use_pretrained_model': '1', 'num_layers': '18', 'epochs': '2', 'learning_rate': '0.01', 'lr_scheduler_factor': 0.1, 'optimizer': 'sgd', 'momentum': 0, 'weight_decay': 0.0001, 'beta_1': 0.9, 'beta_2': 0.999, 'eps': 1e-08, 'gamma': 0.9, 'mini_batch_size': '128', 'image_shape': '3,224,224', 'precision_dtype': 'float32', 'num_classes': '20', 'num_training_samples': '39360'}\u001b[0m\n",
      "\u001b[34m[06/10/2025 12:30:15 INFO 140114206304064] Searching for .lst files in /opt/ml/input/data/train_lst.\u001b[0m\n",
      "\u001b[34m[06/10/2025 12:30:15 INFO 140114206304064] Creating record files for train.lst\u001b[0m\n",
      "\u001b[34m[06/10/2025 12:30:43 INFO 140114206304064] Done creating record files...\u001b[0m\n",
      "\u001b[34m[06/10/2025 12:30:43 INFO 140114206304064] Searching for .lst files in /opt/ml/input/data/validation_lst.\u001b[0m\n",
      "\u001b[34m[06/10/2025 12:30:43 INFO 140114206304064] Creating record files for val.lst\u001b[0m\n",
      "\u001b[34m[06/10/2025 12:31:02 INFO 140114206304064] Done creating record files...\u001b[0m\n",
      "\u001b[34m[06/10/2025 12:31:02 INFO 140114206304064] use_pretrained_model: 1\u001b[0m\n",
      "\u001b[34m[06/10/2025 12:31:02 INFO 140114206304064] multi_label: 0\u001b[0m\n",
      "\u001b[34m[06/10/2025 12:31:02 INFO 140114206304064] Using pretrained model for initializing weights and transfer learning.\u001b[0m\n",
      "\u001b[34m[06/10/2025 12:31:02 INFO 140114206304064] ---- Parameters ----\u001b[0m\n",
      "\u001b[34m[06/10/2025 12:31:02 INFO 140114206304064] num_layers: 18\u001b[0m\n",
      "\u001b[34m[06/10/2025 12:31:02 INFO 140114206304064] data type: <class 'numpy.float32'>\u001b[0m\n",
      "\u001b[34m[06/10/2025 12:31:02 INFO 140114206304064] epochs: 2\u001b[0m\n",
      "\u001b[34m[06/10/2025 12:31:02 INFO 140114206304064] optimizer: sgd\u001b[0m\n",
      "\u001b[34m[06/10/2025 12:31:02 INFO 140114206304064] momentum: 0.9\u001b[0m\n",
      "\u001b[34m[06/10/2025 12:31:02 INFO 140114206304064] weight_decay: 0.0001\u001b[0m\n",
      "\u001b[34m[06/10/2025 12:31:02 INFO 140114206304064] learning_rate: 0.01\u001b[0m\n",
      "\u001b[34m[06/10/2025 12:31:02 INFO 140114206304064] num_training_samples: 39360\u001b[0m\n",
      "\u001b[34m[06/10/2025 12:31:02 INFO 140114206304064] mini_batch_size: 128\u001b[0m\n",
      "\u001b[34m[06/10/2025 12:31:02 INFO 140114206304064] image_shape: 3,224,224\u001b[0m\n",
      "\u001b[34m[06/10/2025 12:31:02 INFO 140114206304064] num_classes: 20\u001b[0m\n",
      "\u001b[34m[06/10/2025 12:31:02 INFO 140114206304064] augmentation_type: None\u001b[0m\n",
      "\u001b[34m[06/10/2025 12:31:02 INFO 140114206304064] kv_store: device\u001b[0m\n",
      "\u001b[34m[06/10/2025 12:31:02 INFO 140114206304064] checkpoint_frequency not set, will store the best model\u001b[0m\n",
      "\u001b[34m[06/10/2025 12:31:02 INFO 140114206304064] --------------------\u001b[0m\n",
      "\u001b[34m[12:31:02] /opt/brazil-pkg-cache/packages/AIAlgorithmsMXNet/AIAlgorithmsMXNet-1.4.x_ecl_Cuda_11.1.x.441.0/AL2_x86_64/generic-flavor/src/src/nnvm/legacy_json_util.cc:209: Loading symbol saved by previous version v0.8.0. Attempting to upgrade...\u001b[0m\n",
      "\u001b[34m[12:31:02] /opt/brazil-pkg-cache/packages/AIAlgorithmsMXNet/AIAlgorithmsMXNet-1.4.x_ecl_Cuda_11.1.x.441.0/AL2_x86_64/generic-flavor/src/src/nnvm/legacy_json_util.cc:217: Symbol successfully upgraded!\u001b[0m\n",
      "\u001b[34m/opt/amazon/python3.8/lib/python3.8/subprocess.py:848: RuntimeWarning: line buffering (buffering=1) isn't supported in binary mode, the default buffer size will be used\n",
      "  self.stdout = io.open(c2pread, 'rb', bufsize)\u001b[0m\n",
      "\u001b[34m[06/10/2025 12:31:02 INFO 140114206304064] Setting number of threads: 3\u001b[0m\n",
      "\u001b[34m[12:31:14] /opt/brazil-pkg-cache/packages/AIAlgorithmsMXNet/AIAlgorithmsMXNet-1.4.x_ecl_Cuda_11.1.x.441.0/AL2_x86_64/generic-flavor/src/src/operator/nn/./cudnn/./cudnn_algoreg-inl.h:97: Running performance tests to find the best convolution algorithm, this can take a while... (setting env variable MXNET_CUDNN_AUTOTUNE_DEFAULT to 0 to disable)\u001b[0m\n",
      "\u001b[34m[06/10/2025 12:31:23 INFO 140114206304064] Epoch[0] Batch [20]#011Speed: 245.513 samples/sec#011accuracy=0.349702\u001b[0m\n",
      "\u001b[34m[06/10/2025 12:31:31 INFO 140114206304064] Epoch[0] Batch [40]#011Speed: 287.926 samples/sec#011accuracy=0.451601\u001b[0m\n",
      "\u001b[34m[06/10/2025 12:31:38 INFO 140114206304064] Epoch[0] Batch [60]#011Speed: 304.883 samples/sec#011accuracy=0.492700\u001b[0m\n",
      "\u001b[34m[06/10/2025 12:31:45 INFO 140114206304064] Epoch[0] Batch [80]#011Speed: 313.956 samples/sec#011accuracy=0.496335\u001b[0m\n",
      "\u001b[34m[06/10/2025 12:31:53 INFO 140114206304064] Epoch[0] Batch [100]#011Speed: 319.628 samples/sec#011accuracy=0.478574\u001b[0m\n",
      "\u001b[34m[06/10/2025 12:32:00 INFO 140114206304064] Epoch[0] Batch [120]#011Speed: 323.451 samples/sec#011accuracy=0.447960\u001b[0m\n",
      "\u001b[34m[06/10/2025 12:32:08 INFO 140114206304064] Epoch[0] Batch [140]#011Speed: 326.182 samples/sec#011accuracy=0.425089\u001b[0m\n",
      "\u001b[34m[06/10/2025 12:32:15 INFO 140114206304064] Epoch[0] Batch [160]#011Speed: 328.354 samples/sec#011accuracy=0.403339\u001b[0m\n",
      "\u001b[34m[06/10/2025 12:32:23 INFO 140114206304064] Epoch[0] Batch [180]#011Speed: 330.022 samples/sec#011accuracy=0.385920\u001b[0m\n",
      "\u001b[34m[06/10/2025 12:32:30 INFO 140114206304064] Epoch[0] Batch [200]#011Speed: 331.375 samples/sec#011accuracy=0.370375\u001b[0m\n",
      "\u001b[34m[06/10/2025 12:32:38 INFO 140114206304064] Epoch[0] Batch [220]#011Speed: 332.417 samples/sec#011accuracy=0.357254\u001b[0m\n",
      "\u001b[34m[06/10/2025 12:32:45 INFO 140114206304064] Epoch[0] Batch [240]#011Speed: 333.319 samples/sec#011accuracy=0.346376\u001b[0m\n",
      "\u001b[34m[06/10/2025 12:32:52 INFO 140114206304064] Epoch[0] Batch [260]#011Speed: 334.056 samples/sec#011accuracy=0.334890\u001b[0m\n",
      "\u001b[34m[06/10/2025 12:33:00 INFO 140114206304064] Epoch[0] Batch [280]#011Speed: 334.709 samples/sec#011accuracy=0.325706\u001b[0m\n",
      "\u001b[34m[06/10/2025 12:33:07 INFO 140114206304064] Epoch[0] Batch [300]#011Speed: 335.259 samples/sec#011accuracy=0.318314\u001b[0m\n",
      "\u001b[34m[06/10/2025 12:33:10 INFO 140114206304064] Epoch[0] Train-accuracy=0.316164\u001b[0m\n",
      "\u001b[34m[06/10/2025 12:33:10 INFO 140114206304064] Epoch[0] Time cost=116.773\u001b[0m\n",
      "\u001b[34m[06/10/2025 12:33:37 INFO 140114206304064] Epoch[0] Validation-accuracy=0.149675\u001b[0m\n",
      "\u001b[34m[06/10/2025 12:33:37 INFO 140114206304064] Storing the best model with validation accuracy: 0.149675\u001b[0m\n",
      "\u001b[34m[06/10/2025 12:33:37 INFO 140114206304064] Saved checkpoint to \"/opt/ml/model/image-classification-0001.params\"\u001b[0m\n",
      "\u001b[34m[06/10/2025 12:33:45 INFO 140114206304064] Epoch[1] Batch [20]#011Speed: 337.046 samples/sec#011accuracy=0.191592\u001b[0m\n",
      "\u001b[34m[06/10/2025 12:33:52 INFO 140114206304064] Epoch[1] Batch [40]#011Speed: 339.788 samples/sec#011accuracy=0.194741\u001b[0m\n",
      "\u001b[34m[06/10/2025 12:34:00 INFO 140114206304064] Epoch[1] Batch [60]#011Speed: 340.919 samples/sec#011accuracy=0.192495\u001b[0m\n",
      "\u001b[34m[06/10/2025 12:34:07 INFO 140114206304064] Epoch[1] Batch [80]#011Speed: 341.478 samples/sec#011accuracy=0.186150\u001b[0m\n",
      "\u001b[34m[06/10/2025 12:34:15 INFO 140114206304064] Epoch[1] Batch [100]#011Speed: 341.951 samples/sec#011accuracy=0.184870\u001b[0m\n",
      "\u001b[34m[06/10/2025 12:34:22 INFO 140114206304064] Epoch[1] Batch [120]#011Speed: 342.088 samples/sec#011accuracy=0.179171\u001b[0m\n",
      "\u001b[34m[06/10/2025 12:34:30 INFO 140114206304064] Epoch[1] Batch [140]#011Speed: 342.276 samples/sec#011accuracy=0.175864\u001b[0m\n",
      "\u001b[34m[06/10/2025 12:34:37 INFO 140114206304064] Epoch[1] Batch [160]#011Speed: 342.474 samples/sec#011accuracy=0.167993\u001b[0m\n",
      "\u001b[34m[06/10/2025 12:34:45 INFO 140114206304064] Epoch[1] Batch [180]#011Speed: 342.612 samples/sec#011accuracy=0.164019\u001b[0m\n",
      "\u001b[34m[06/10/2025 12:34:52 INFO 140114206304064] Epoch[1] Batch [200]#011Speed: 342.742 samples/sec#011accuracy=0.164490\u001b[0m\n",
      "\u001b[34m[06/10/2025 12:34:59 INFO 140114206304064] Epoch[1] Batch [220]#011Speed: 342.787 samples/sec#011accuracy=0.159467\u001b[0m\n",
      "\u001b[34m[06/10/2025 12:35:07 INFO 140114206304064] Epoch[1] Batch [240]#011Speed: 342.769 samples/sec#011accuracy=0.152652\u001b[0m\n",
      "\u001b[34m[06/10/2025 12:35:14 INFO 140114206304064] Epoch[1] Batch [260]#011Speed: 342.869 samples/sec#011accuracy=0.151072\u001b[0m\n",
      "\u001b[34m[06/10/2025 12:35:22 INFO 140114206304064] Epoch[1] Batch [280]#011Speed: 342.943 samples/sec#011accuracy=0.148799\u001b[0m\n",
      "\u001b[34m[06/10/2025 12:35:29 INFO 140114206304064] Epoch[1] Batch [300]#011Speed: 343.019 samples/sec#011accuracy=0.146439\u001b[0m\n",
      "\u001b[34m[06/10/2025 12:35:31 INFO 140114206304064] Epoch[1] Train-accuracy=0.145002\u001b[0m\n",
      "\u001b[34m[06/10/2025 12:35:31 INFO 140114206304064] Epoch[1] Time cost=114.162\u001b[0m\n",
      "\u001b[34m[06/10/2025 12:35:58 INFO 140114206304064] Epoch[1] Validation-accuracy=0.004859\u001b[0m\n",
      "\n",
      "2025-06-10 12:36:19 Uploading - Uploading generated training model\n",
      "2025-06-10 12:36:19 Completed - Training job completed\n",
      "Training seconds: 552\n",
      "Billable seconds: 552\n"
     ]
    }
   ],
   "source": [
    "ic_estimator.fit(inputs=input_data, logs=True)"
   ]
  },
  {
   "cell_type": "code",
   "execution_count": null,
   "id": "7a8e66f3-54be-4b92-98a8-fb8c79fcadaa",
   "metadata": {},
   "outputs": [],
   "source": []
  }
 ],
 "metadata": {
  "kernelspec": {
   "display_name": "Python 3 (ipykernel)",
   "language": "python",
   "name": "python3"
  },
  "language_info": {
   "codemirror_mode": {
    "name": "ipython",
    "version": 3
   },
   "file_extension": ".py",
   "mimetype": "text/x-python",
   "name": "python",
   "nbconvert_exporter": "python",
   "pygments_lexer": "ipython3",
   "version": "3.12.9"
  }
 },
 "nbformat": 4,
 "nbformat_minor": 5
}
