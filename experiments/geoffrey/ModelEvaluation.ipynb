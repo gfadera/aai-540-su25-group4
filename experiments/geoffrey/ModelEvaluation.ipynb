{
 "cells": [
  {
   "cell_type": "markdown",
   "id": "0da38ce4-46b2-4678-998c-091dad7cd5b6",
   "metadata": {},
   "source": [
    "# MODEL Evaluation: Using Validation Set"
   ]
  },
  {
   "cell_type": "code",
   "execution_count": 1,
   "id": "50b02f9b-2cfc-40c5-8c72-70078268225c",
   "metadata": {
    "execution": {
     "iopub.execute_input": "2025-06-12T13:08:03.158317Z",
     "iopub.status.busy": "2025-06-12T13:08:03.158087Z",
     "iopub.status.idle": "2025-06-12T13:08:05.466193Z",
     "shell.execute_reply": "2025-06-12T13:08:05.465379Z",
     "shell.execute_reply.started": "2025-06-12T13:08:03.158296Z"
    }
   },
   "outputs": [
    {
     "name": "stdout",
     "output_type": "stream",
     "text": [
      "sagemaker.config INFO - Not applying SDK defaults from location: /etc/xdg/sagemaker/config.yaml\n",
      "sagemaker.config INFO - Not applying SDK defaults from location: /home/sagemaker-user/.config/sagemaker/config.yaml\n",
      "arn:aws:iam::324183265896:role/service-role/AmazonSageMaker-ExecutionRole-20250604T045982\n"
     ]
    }
   ],
   "source": [
    "import boto3\n",
    "import sagemaker\n",
    "from sagemaker import get_execution_role\n",
    "\n",
    "role = get_execution_role()\n",
    "print(role)\n",
    "\n",
    "region = boto3.Session().region_name\n",
    "\n",
    "s3_client = boto3.client(\"s3\")\n",
    "sm_client = boto3.client(\"sagemaker\")\n",
    "\n",
    "sess = sagemaker.Session()\n",
    "\n",
    "# project bucket\n",
    "bucket_name = \"aai-540-group4\"\n",
    "\n",
    "# specifiy output location of training data and model\n",
    "model_prefix = \"sg-ic-transfer-learning\""
   ]
  },
  {
   "cell_type": "code",
   "execution_count": 2,
   "id": "67a5bb3f-cf5b-4c95-aa41-c14ee05eed93",
   "metadata": {
    "execution": {
     "iopub.execute_input": "2025-06-12T13:08:06.184223Z",
     "iopub.status.busy": "2025-06-12T13:08:06.183906Z",
     "iopub.status.idle": "2025-06-12T13:08:06.188174Z",
     "shell.execute_reply": "2025-06-12T13:08:06.187409Z",
     "shell.execute_reply.started": "2025-06-12T13:08:06.184193Z"
    }
   },
   "outputs": [],
   "source": [
    "import pandas as pd\n",
    "import json"
   ]
  },
  {
   "cell_type": "code",
   "execution_count": 3,
   "id": "8c5dcf93-1b26-4ff7-8d92-55c11546df19",
   "metadata": {
    "execution": {
     "iopub.execute_input": "2025-06-12T13:08:06.744413Z",
     "iopub.status.busy": "2025-06-12T13:08:06.743729Z",
     "iopub.status.idle": "2025-06-12T13:08:06.838250Z",
     "shell.execute_reply": "2025-06-12T13:08:06.837441Z",
     "shell.execute_reply.started": "2025-06-12T13:08:06.744384Z"
    }
   },
   "outputs": [],
   "source": [
    "# load validation predictions \n",
    "s3_client.download_file(\n",
    "    bucket_name, \"sg-ic-transfer-learning/predictions/update-preds-25751.json\", \"predictions.json\"\n",
    ")"
   ]
  },
  {
   "cell_type": "code",
   "execution_count": 4,
   "id": "a2956889-9fbf-44b0-a97e-a22ac1152c30",
   "metadata": {
    "execution": {
     "iopub.execute_input": "2025-06-12T13:08:08.719637Z",
     "iopub.status.busy": "2025-06-12T13:08:08.718885Z",
     "iopub.status.idle": "2025-06-12T13:08:08.740598Z",
     "shell.execute_reply": "2025-06-12T13:08:08.739862Z",
     "shell.execute_reply.started": "2025-06-12T13:08:08.719601Z"
    }
   },
   "outputs": [],
   "source": [
    "# load json file and convert to df\n",
    "with open('predictions.json', 'r') as file:  # Replace with your file name if different\n",
    "    predicted_labels = json.load(file)"
   ]
  },
  {
   "cell_type": "code",
   "execution_count": 5,
   "id": "f87f6357-30e1-4ae4-8bbf-957d461fe487",
   "metadata": {
    "execution": {
     "iopub.execute_input": "2025-06-12T13:08:09.372228Z",
     "iopub.status.busy": "2025-06-12T13:08:09.371396Z",
     "iopub.status.idle": "2025-06-12T13:08:09.397295Z",
     "shell.execute_reply": "2025-06-12T13:08:09.396449Z",
     "shell.execute_reply.started": "2025-06-12T13:08:09.372197Z"
    }
   },
   "outputs": [
    {
     "data": {
      "text/html": [
       "<div>\n",
       "<style scoped>\n",
       "    .dataframe tbody tr th:only-of-type {\n",
       "        vertical-align: middle;\n",
       "    }\n",
       "\n",
       "    .dataframe tbody tr th {\n",
       "        vertical-align: top;\n",
       "    }\n",
       "\n",
       "    .dataframe thead th {\n",
       "        text-align: right;\n",
       "    }\n",
       "</style>\n",
       "<table border=\"1\" class=\"dataframe\">\n",
       "  <thead>\n",
       "    <tr style=\"text-align: right;\">\n",
       "      <th></th>\n",
       "      <th>filename</th>\n",
       "      <th>pred_label</th>\n",
       "    </tr>\n",
       "  </thead>\n",
       "  <tbody>\n",
       "    <tr>\n",
       "      <th>0</th>\n",
       "      <td>5858bf2c-23d2-11e8-a6a3-ec086b02610b_0.jpg</td>\n",
       "      <td>raccoon</td>\n",
       "    </tr>\n",
       "    <tr>\n",
       "      <th>1</th>\n",
       "      <td>5858bf4a-23d2-11e8-a6a3-ec086b02610b_0.jpg</td>\n",
       "      <td>raccoon</td>\n",
       "    </tr>\n",
       "    <tr>\n",
       "      <th>2</th>\n",
       "      <td>5858bf5d-23d2-11e8-a6a3-ec086b02610b_0.jpg</td>\n",
       "      <td>raccoon</td>\n",
       "    </tr>\n",
       "    <tr>\n",
       "      <th>3</th>\n",
       "      <td>5858bf6a-23d2-11e8-a6a3-ec086b02610b_0.jpg</td>\n",
       "      <td>raccoon</td>\n",
       "    </tr>\n",
       "    <tr>\n",
       "      <th>4</th>\n",
       "      <td>5858bf6d-23d2-11e8-a6a3-ec086b02610b_0.jpg</td>\n",
       "      <td>dog</td>\n",
       "    </tr>\n",
       "  </tbody>\n",
       "</table>\n",
       "</div>"
      ],
      "text/plain": [
       "                                     filename pred_label\n",
       "0  5858bf2c-23d2-11e8-a6a3-ec086b02610b_0.jpg    raccoon\n",
       "1  5858bf4a-23d2-11e8-a6a3-ec086b02610b_0.jpg    raccoon\n",
       "2  5858bf5d-23d2-11e8-a6a3-ec086b02610b_0.jpg    raccoon\n",
       "3  5858bf6a-23d2-11e8-a6a3-ec086b02610b_0.jpg    raccoon\n",
       "4  5858bf6d-23d2-11e8-a6a3-ec086b02610b_0.jpg        dog"
      ]
     },
     "execution_count": 5,
     "metadata": {},
     "output_type": "execute_result"
    }
   ],
   "source": [
    "pred_labels_df = pd.DataFrame(predicted_labels)\n",
    "pred_labels_df.head()"
   ]
  },
  {
   "cell_type": "code",
   "execution_count": 6,
   "id": "392b4732-33ff-4136-a0e8-acec2cd3d9e4",
   "metadata": {
    "execution": {
     "iopub.execute_input": "2025-06-12T13:08:11.599468Z",
     "iopub.status.busy": "2025-06-12T13:08:11.599176Z",
     "iopub.status.idle": "2025-06-12T13:08:11.685533Z",
     "shell.execute_reply": "2025-06-12T13:08:11.684558Z",
     "shell.execute_reply.started": "2025-06-12T13:08:11.599447Z"
    }
   },
   "outputs": [],
   "source": [
    "# load grp4-metedata-val.json\n",
    "with open('grp4-metadata-val.json', 'r') as file:  # Replace with your file name if different\n",
    "    true_labels = json.load(file)"
   ]
  },
  {
   "cell_type": "code",
   "execution_count": 7,
   "id": "6a9f3334-0f98-4dd7-98eb-f8245e2d8011",
   "metadata": {
    "execution": {
     "iopub.execute_input": "2025-06-12T13:08:12.308603Z",
     "iopub.status.busy": "2025-06-12T13:08:12.307783Z",
     "iopub.status.idle": "2025-06-12T13:08:12.353146Z",
     "shell.execute_reply": "2025-06-12T13:08:12.351956Z",
     "shell.execute_reply.started": "2025-06-12T13:08:12.308568Z"
    }
   },
   "outputs": [],
   "source": [
    "true_labels_df = pd.DataFrame(true_labels)"
   ]
  },
  {
   "cell_type": "code",
   "execution_count": 8,
   "id": "47916d0c-a361-4639-ab6f-5f58b386cc70",
   "metadata": {
    "execution": {
     "iopub.execute_input": "2025-06-12T13:08:13.874052Z",
     "iopub.status.busy": "2025-06-12T13:08:13.873639Z",
     "iopub.status.idle": "2025-06-12T13:08:13.889604Z",
     "shell.execute_reply": "2025-06-12T13:08:13.887772Z",
     "shell.execute_reply.started": "2025-06-12T13:08:13.874026Z"
    }
   },
   "outputs": [
    {
     "data": {
      "text/html": [
       "<div>\n",
       "<style scoped>\n",
       "    .dataframe tbody tr th:only-of-type {\n",
       "        vertical-align: middle;\n",
       "    }\n",
       "\n",
       "    .dataframe tbody tr th {\n",
       "        vertical-align: top;\n",
       "    }\n",
       "\n",
       "    .dataframe thead th {\n",
       "        text-align: right;\n",
       "    }\n",
       "</style>\n",
       "<table border=\"1\" class=\"dataframe\">\n",
       "  <thead>\n",
       "    <tr style=\"text-align: right;\">\n",
       "      <th></th>\n",
       "      <th>filename</th>\n",
       "      <th>label</th>\n",
       "      <th>category_id</th>\n",
       "      <th>bbox</th>\n",
       "      <th>image_id</th>\n",
       "      <th>location</th>\n",
       "      <th>split_type</th>\n",
       "    </tr>\n",
       "  </thead>\n",
       "  <tbody>\n",
       "    <tr>\n",
       "      <th>0</th>\n",
       "      <td>59fae563-23d2-11e8-a6a3-ec086b02610b_0.jpg</td>\n",
       "      <td>rabbit</td>\n",
       "      <td>10</td>\n",
       "      <td>[1456.0, 480.0, 156.8, 137.6]</td>\n",
       "      <td>59fae563-23d2-11e8-a6a3-ec086b02610b</td>\n",
       "      <td>46</td>\n",
       "      <td>val</td>\n",
       "    </tr>\n",
       "    <tr>\n",
       "      <th>1</th>\n",
       "      <td>595f7b9c-23d2-11e8-a6a3-ec086b02610b_0.jpg</td>\n",
       "      <td>rodent</td>\n",
       "      <td>99</td>\n",
       "      <td>[249.3516082764, 798.4633789062, 291.603164672...</td>\n",
       "      <td>595f7b9c-23d2-11e8-a6a3-ec086b02610b</td>\n",
       "      <td>67</td>\n",
       "      <td>val</td>\n",
       "    </tr>\n",
       "    <tr>\n",
       "      <th>2</th>\n",
       "      <td>5883e97b-23d2-11e8-a6a3-ec086b02610b_0.jpg</td>\n",
       "      <td>opossum</td>\n",
       "      <td>1</td>\n",
       "      <td>[94.72, 1231.36, 655.36, 250.88]</td>\n",
       "      <td>5883e97b-23d2-11e8-a6a3-ec086b02610b</td>\n",
       "      <td>78</td>\n",
       "      <td>val</td>\n",
       "    </tr>\n",
       "    <tr>\n",
       "      <th>3</th>\n",
       "      <td>58d47cf1-23d2-11e8-a6a3-ec086b02610b_0.jpg</td>\n",
       "      <td>opossum</td>\n",
       "      <td>1</td>\n",
       "      <td>[729.6, 1142.613359375, 660.48, 280.746640625]</td>\n",
       "      <td>58d47cf1-23d2-11e8-a6a3-ec086b02610b</td>\n",
       "      <td>100</td>\n",
       "      <td>val</td>\n",
       "    </tr>\n",
       "    <tr>\n",
       "      <th>4</th>\n",
       "      <td>588a66f6-23d2-11e8-a6a3-ec086b02610b_0.jpg</td>\n",
       "      <td>raccoon</td>\n",
       "      <td>3</td>\n",
       "      <td>[540.16, 1013.76, 394.24, 480.0]</td>\n",
       "      <td>588a66f6-23d2-11e8-a6a3-ec086b02610b</td>\n",
       "      <td>100</td>\n",
       "      <td>val</td>\n",
       "    </tr>\n",
       "  </tbody>\n",
       "</table>\n",
       "</div>"
      ],
      "text/plain": [
       "                                     filename    label  category_id  \\\n",
       "0  59fae563-23d2-11e8-a6a3-ec086b02610b_0.jpg   rabbit           10   \n",
       "1  595f7b9c-23d2-11e8-a6a3-ec086b02610b_0.jpg   rodent           99   \n",
       "2  5883e97b-23d2-11e8-a6a3-ec086b02610b_0.jpg  opossum            1   \n",
       "3  58d47cf1-23d2-11e8-a6a3-ec086b02610b_0.jpg  opossum            1   \n",
       "4  588a66f6-23d2-11e8-a6a3-ec086b02610b_0.jpg  raccoon            3   \n",
       "\n",
       "                                                bbox  \\\n",
       "0                      [1456.0, 480.0, 156.8, 137.6]   \n",
       "1  [249.3516082764, 798.4633789062, 291.603164672...   \n",
       "2                   [94.72, 1231.36, 655.36, 250.88]   \n",
       "3     [729.6, 1142.613359375, 660.48, 280.746640625]   \n",
       "4                   [540.16, 1013.76, 394.24, 480.0]   \n",
       "\n",
       "                               image_id location split_type  \n",
       "0  59fae563-23d2-11e8-a6a3-ec086b02610b       46        val  \n",
       "1  595f7b9c-23d2-11e8-a6a3-ec086b02610b       67        val  \n",
       "2  5883e97b-23d2-11e8-a6a3-ec086b02610b       78        val  \n",
       "3  58d47cf1-23d2-11e8-a6a3-ec086b02610b      100        val  \n",
       "4  588a66f6-23d2-11e8-a6a3-ec086b02610b      100        val  "
      ]
     },
     "execution_count": 8,
     "metadata": {},
     "output_type": "execute_result"
    }
   ],
   "source": [
    "true_labels_df.head()"
   ]
  },
  {
   "cell_type": "code",
   "execution_count": 9,
   "id": "0d6b65a6-4e87-46a5-9e39-3006228a2e6b",
   "metadata": {
    "execution": {
     "iopub.execute_input": "2025-06-12T13:08:16.147024Z",
     "iopub.status.busy": "2025-06-12T13:08:16.146370Z",
     "iopub.status.idle": "2025-06-12T13:08:16.175709Z",
     "shell.execute_reply": "2025-06-12T13:08:16.174661Z",
     "shell.execute_reply.started": "2025-06-12T13:08:16.146992Z"
    }
   },
   "outputs": [],
   "source": [
    "# merge the two dfs on filename\n",
    "merged_df = pd.merge(true_labels_df, pred_labels_df, on='filename')"
   ]
  },
  {
   "cell_type": "code",
   "execution_count": 10,
   "id": "ec105418-d18d-414d-83a3-659eb5927046",
   "metadata": {
    "execution": {
     "iopub.execute_input": "2025-06-12T13:08:16.952559Z",
     "iopub.status.busy": "2025-06-12T13:08:16.951933Z",
     "iopub.status.idle": "2025-06-12T13:08:16.957055Z",
     "shell.execute_reply": "2025-06-12T13:08:16.956259Z",
     "shell.execute_reply.started": "2025-06-12T13:08:16.952529Z"
    }
   },
   "outputs": [
    {
     "data": {
      "text/plain": [
       "25751"
      ]
     },
     "execution_count": 10,
     "metadata": {},
     "output_type": "execute_result"
    }
   ],
   "source": [
    "len(merged_df)"
   ]
  },
  {
   "cell_type": "code",
   "execution_count": 11,
   "id": "2e0a7862-fac2-4b70-b826-7923bfbbd570",
   "metadata": {
    "execution": {
     "iopub.execute_input": "2025-06-12T13:08:17.720790Z",
     "iopub.status.busy": "2025-06-12T13:08:17.719947Z",
     "iopub.status.idle": "2025-06-12T13:08:17.741612Z",
     "shell.execute_reply": "2025-06-12T13:08:17.740853Z",
     "shell.execute_reply.started": "2025-06-12T13:08:17.720757Z"
    }
   },
   "outputs": [
    {
     "data": {
      "text/html": [
       "<div>\n",
       "<style scoped>\n",
       "    .dataframe tbody tr th:only-of-type {\n",
       "        vertical-align: middle;\n",
       "    }\n",
       "\n",
       "    .dataframe tbody tr th {\n",
       "        vertical-align: top;\n",
       "    }\n",
       "\n",
       "    .dataframe thead th {\n",
       "        text-align: right;\n",
       "    }\n",
       "</style>\n",
       "<table border=\"1\" class=\"dataframe\">\n",
       "  <thead>\n",
       "    <tr style=\"text-align: right;\">\n",
       "      <th></th>\n",
       "      <th>filename</th>\n",
       "      <th>label</th>\n",
       "      <th>category_id</th>\n",
       "      <th>bbox</th>\n",
       "      <th>image_id</th>\n",
       "      <th>location</th>\n",
       "      <th>split_type</th>\n",
       "      <th>pred_label</th>\n",
       "    </tr>\n",
       "  </thead>\n",
       "  <tbody>\n",
       "  </tbody>\n",
       "</table>\n",
       "</div>"
      ],
      "text/plain": [
       "Empty DataFrame\n",
       "Columns: [filename, label, category_id, bbox, image_id, location, split_type, pred_label]\n",
       "Index: []"
      ]
     },
     "execution_count": 11,
     "metadata": {},
     "output_type": "execute_result"
    }
   ],
   "source": [
    "merged_df.loc[merged_df.isnull().any(axis=1)]"
   ]
  },
  {
   "cell_type": "code",
   "execution_count": 12,
   "id": "dc74fd8b-147e-4e64-b07d-18426f0122d8",
   "metadata": {
    "execution": {
     "iopub.execute_input": "2025-06-12T13:08:20.510107Z",
     "iopub.status.busy": "2025-06-12T13:08:20.509345Z",
     "iopub.status.idle": "2025-06-12T13:08:21.542668Z",
     "shell.execute_reply": "2025-06-12T13:08:21.541759Z",
     "shell.execute_reply.started": "2025-06-12T13:08:20.510077Z"
    }
   },
   "outputs": [
    {
     "name": "stderr",
     "output_type": "stream",
     "text": [
      "/opt/conda/lib/python3.12/site-packages/sklearn/metrics/_classification.py:1565: UndefinedMetricWarning: Recall is ill-defined and being set to 0.0 in labels with no true samples. Use `zero_division` parameter to control this behavior.\n",
      "  _warn_prf(average, modifier, f\"{metric.capitalize()} is\", len(result))\n",
      "/opt/conda/lib/python3.12/site-packages/sklearn/metrics/_classification.py:1565: UndefinedMetricWarning: Recall is ill-defined and being set to 0.0 in labels with no true samples. Use `zero_division` parameter to control this behavior.\n",
      "  _warn_prf(average, modifier, f\"{metric.capitalize()} is\", len(result))\n"
     ]
    },
    {
     "name": "stdout",
     "output_type": "stream",
     "text": [
      "               precision    recall  f1-score   support\n",
      "\n",
      "       badger       1.00      0.17      0.29        18\n",
      "         bird       0.76      0.84      0.80      1291\n",
      "       bobcat       0.87      0.76      0.81      2844\n",
      "          car       1.00      0.99      0.99      1066\n",
      "          cat       0.65      0.57      0.61      1392\n",
      "       coyote       0.75      0.83      0.79      2293\n",
      "         deer       0.90      0.78      0.84      3017\n",
      "          dog       0.74      0.83      0.78      1010\n",
      "        empty       0.00      0.00      0.00        23\n",
      "          fox       0.58      0.60      0.59       428\n",
      "       lizard       0.31      0.14      0.19       123\n",
      "mountain_lion       0.00      0.00      0.00         0\n",
      "      opossum       0.92      0.94      0.93      4972\n",
      "       rabbit       0.62      0.85      0.72       753\n",
      "      raccoon       0.94      0.83      0.88      4832\n",
      "       rodent       0.78      0.77      0.77       424\n",
      "        skunk       0.76      0.91      0.83       469\n",
      "     squirrel       0.58      0.88      0.70       796\n",
      "\n",
      "     accuracy                           0.83     25751\n",
      "    macro avg       0.68      0.65      0.64     25751\n",
      " weighted avg       0.84      0.83      0.83     25751\n",
      "\n"
     ]
    },
    {
     "name": "stderr",
     "output_type": "stream",
     "text": [
      "/opt/conda/lib/python3.12/site-packages/sklearn/metrics/_classification.py:1565: UndefinedMetricWarning: Recall is ill-defined and being set to 0.0 in labels with no true samples. Use `zero_division` parameter to control this behavior.\n",
      "  _warn_prf(average, modifier, f\"{metric.capitalize()} is\", len(result))\n"
     ]
    }
   ],
   "source": [
    "# generate classification report\n",
    "from sklearn.metrics import classification_report\n",
    "\n",
    "# Suppose your DataFrame is named df\n",
    "# 'true_label' is the column with actual values\n",
    "# 'pred_label' is the column with predicted values\n",
    "\n",
    "print(classification_report(merged_df['label'], merged_df['pred_label']))"
   ]
  },
  {
   "cell_type": "code",
   "execution_count": null,
   "id": "7ed93026-ab32-4d3c-b556-70b02f3d9221",
   "metadata": {},
   "outputs": [],
   "source": []
  }
 ],
 "metadata": {
  "kernelspec": {
   "display_name": "Python 3 (ipykernel)",
   "language": "python",
   "name": "python3"
  },
  "language_info": {
   "codemirror_mode": {
    "name": "ipython",
    "version": 3
   },
   "file_extension": ".py",
   "mimetype": "text/x-python",
   "name": "python",
   "nbconvert_exporter": "python",
   "pygments_lexer": "ipython3",
   "version": "3.12.9"
  }
 },
 "nbformat": 4,
 "nbformat_minor": 5
}
