{
 "cells": [
  {
   "cell_type": "markdown",
   "id": "34962af8-7518-4b4c-9d42-bcdd258a4c0f",
   "metadata": {},
   "source": [
    "### AAI 540 Group 4 Trials\n",
    "#### Geoffrey Fadera\n",
    "Module3 - Module5 Pipeline"
   ]
  },
  {
   "cell_type": "code",
   "execution_count": 1,
   "id": "4ee3cfe2-bef7-4edb-a949-10988112a6d4",
   "metadata": {
    "execution": {
     "iopub.execute_input": "2025-06-07T08:35:13.173796Z",
     "iopub.status.busy": "2025-06-07T08:35:13.173444Z",
     "iopub.status.idle": "2025-06-07T08:35:15.475710Z",
     "shell.execute_reply": "2025-06-07T08:35:15.474952Z",
     "shell.execute_reply.started": "2025-06-07T08:35:13.173771Z"
    }
   },
   "outputs": [
    {
     "name": "stdout",
     "output_type": "stream",
     "text": [
      "sagemaker.config INFO - Not applying SDK defaults from location: /etc/xdg/sagemaker/config.yaml\n",
      "sagemaker.config INFO - Not applying SDK defaults from location: /home/sagemaker-user/.config/sagemaker/config.yaml\n"
     ]
    }
   ],
   "source": [
    "import sagemaker\n",
    "from sagemaker import get_execution_role\n",
    "from sagemaker.inputs import TrainingInput\n",
    "\n",
    "# Initialize SageMaker session\n",
    "sess = sagemaker.Session()\n",
    "role = get_execution_role()\n",
    "\n",
    "# Retrieve image classification algorithm\n",
    "training_image = sagemaker.image_uris.retrieve(\n",
    "    framework='image-classification',\n",
    "    region=sess.boto_region_name,\n",
    "    version='latest'\n",
    ")\n"
   ]
  },
  {
   "cell_type": "code",
   "execution_count": 2,
   "id": "af8427c1-daa0-4a9f-909f-b024b6164090",
   "metadata": {
    "execution": {
     "iopub.execute_input": "2025-06-07T08:37:33.412602Z",
     "iopub.status.busy": "2025-06-07T08:37:33.412153Z",
     "iopub.status.idle": "2025-06-07T08:37:33.754378Z",
     "shell.execute_reply": "2025-06-07T08:37:33.753582Z",
     "shell.execute_reply.started": "2025-06-07T08:37:33.412567Z"
    }
   },
   "outputs": [],
   "source": [
    "# Configure model parameters\n",
    "animal_classifier = sagemaker.estimator.Estimator(\n",
    "    training_image,\n",
    "    role,\n",
    "    instance_count=1,\n",
    "    instance_type='ml.m5.xlarge',\n",
    "    volume_size=50,\n",
    "    max_run=3600,\n",
    "    output_path=f's3://{sess.default_bucket()}/aai-540-group/model-output',\n",
    "    sagemaker_session=sess\n",
    ")"
   ]
  },
  {
   "cell_type": "code",
   "execution_count": 3,
   "id": "d71c90ef-90d6-4f2a-869c-cb0015b9cf24",
   "metadata": {
    "execution": {
     "iopub.execute_input": "2025-06-07T08:42:23.930602Z",
     "iopub.status.busy": "2025-06-07T08:42:23.930330Z",
     "iopub.status.idle": "2025-06-07T08:42:23.935777Z",
     "shell.execute_reply": "2025-06-07T08:42:23.935092Z",
     "shell.execute_reply.started": "2025-06-07T08:42:23.930584Z"
    }
   },
   "outputs": [],
   "source": [
    "# Set hyperparameters (adjust based on your dataset)\n",
    "animal_classifier.set_hyperparameters(\n",
    "    num_layers=18,               # ResNet-18 architecture\n",
    "    num_classes=20,             # Number of animal classes\n",
    "    num_training_samples=39361,   # Total training images\n",
    "    image_shape='3,224,224',     # 224x224 RGB images\n",
    "    mini_batch_size=64,\n",
    "    epochs=30,\n",
    "    learning_rate=0.001,\n",
    "    use_pretrained_model=1       # Transfer learning\n",
    ")"
   ]
  },
  {
   "cell_type": "code",
   "execution_count": null,
   "id": "6cb5af26-1636-45f9-a6b7-81f1d64d2cba",
   "metadata": {
    "editable": true,
    "slideshow": {
     "slide_type": ""
    },
    "tags": []
   },
   "outputs": [],
   "source": [
    "# Define Training and Val input channels\n",
    "\n",
    "#train_data = TrainingInput(\n",
    "#    s3_train_path,\n",
    "#    content_type='image/jpeg',\n",
    "#    s3_data_type='S3Prefix'\n",
    "#)\n",
    "#validation_data = TrainingInput(\n",
    "#    s3_validation_path,\n",
    "#    content_type='image/jpeg',\n",
    "#    s3_data_type='S3Prefix'\n",
    "#)"
   ]
  },
  {
   "cell_type": "code",
   "execution_count": null,
   "id": "e08c2a10-aa21-44f5-ae95-0c34e4e66cea",
   "metadata": {},
   "outputs": [],
   "source": [
    "# sm Estimator for image classification requires input channels to be in the following structure\n",
    "# so need to create another s3 bucket for this....?\n",
    "\n",
    "'''\n",
    "s3_bucket/\n",
    "  train/\n",
    "    class_1/\n",
    "      img1.jpg\n",
    "      img2.jpg\n",
    "    class_2/\n",
    "      img3.jpg\n",
    "    ...\n",
    "  validation/\n",
    "    class_1/\n",
    "      img4.jpg\n",
    "    class_2/\n",
    "      img5.jpg\n",
    "    ...\n",
    "'''"
   ]
  }
 ],
 "metadata": {
  "kernelspec": {
   "display_name": "Python 3 (ipykernel)",
   "language": "python",
   "name": "python3"
  },
  "language_info": {
   "codemirror_mode": {
    "name": "ipython",
    "version": 3
   },
   "file_extension": ".py",
   "mimetype": "text/x-python",
   "name": "python",
   "nbconvert_exporter": "python",
   "pygments_lexer": "ipython3",
   "version": "3.12.9"
  }
 },
 "nbformat": 4,
 "nbformat_minor": 5
}
